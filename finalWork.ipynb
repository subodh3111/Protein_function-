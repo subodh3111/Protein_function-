pip install jupyter
pip install numpy
pip intsall tensorflow
