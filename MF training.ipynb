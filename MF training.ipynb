{
 "cells": [
  {
   "cell_type": "code",
   "execution_count": 235,
   "id": "85401b8a",
   "metadata": {},
   "outputs": [],
   "source": [
    "import os\n",
    "import numpy as np\n",
    "import pandas as pd\n",
    "from tensorflow.keras.models import Sequential\n",
    "from tensorflow.keras.layers import Conv1D, MaxPooling1D, Flatten, Dense\n",
    "from tensorflow.keras.preprocessing.sequence import pad_sequences"
   ]
  },
  {
   "cell_type": "code",
   "execution_count": 236,
   "id": "c006a176",
   "metadata": {},
   "outputs": [],
   "source": [
    "num_channels = 3\n",
    "max_sequence_length = 1000  # Set maximum sequence length\n",
    "\n",
    "def dataPrep(folderPath):\n",
    "    # Get a list of all .npy files in the folder\n",
    "    file_list = [file for file in os.listdir(folderPath) if file.endswith('.npy')]\n",
    "    print(len(file_list))\n",
    "    # Initialize lists to store padded data\n",
    "    padded_data_list = []\n",
    "\n",
    "    # Process each .npy file\n",
    "    for file_name in file_list:\n",
    "        # Load data from .npy file\n",
    "        data = np.load(os.path.join(folder_pathTrain, file_name))\n",
    "\n",
    "        # Truncate or pad sequences to max_sequence_length\n",
    "        truncated_data = [seq[:max_sequence_length] for seq in data]\n",
    "        padded_data = pad_sequences(truncated_data, maxlen=max_sequence_length, padding='pre', dtype='float32')\n",
    "\n",
    "        padded_data_list.append(padded_data)\n",
    "\n",
    "    # Concatenate data from all files\n",
    "    for i in range(142):\n",
    "        padded_data_list.append(padded_data_list[0])\n",
    "    padded_data_all = np.stack(padded_data_list, axis=0) #1136\n",
    "\n",
    "    # Swap axes to match model input shape (None, 1000, 3)\n",
    "    padded_data_all = np.swapaxes(padded_data_all, 1, 2)\n",
    "    return padded_data_all"
   ]
  },
  {
   "cell_type": "code",
   "execution_count": 237,
   "id": "b9a0cbf7",
   "metadata": {},
   "outputs": [
    {
     "name": "stdout",
     "output_type": "stream",
     "text": [
      "35968\n"
     ]
    }
   ],
   "source": [
    "folder_pathTrain=\"C:\\\\Users\\\\91629\\\\Desktop\\\\MF_train_Data\"\n",
    "test_data = dataPrep(\"C:\\\\Users\\\\91629\\\\Desktop\\\\MF_train_Data\")"
   ]
  },
  {
   "cell_type": "code",
   "execution_count": 238,
   "id": "7dfbe726",
   "metadata": {},
   "outputs": [
    {
     "name": "stdout",
     "output_type": "stream",
     "text": [
      "(36110, 1000, 3)\n"
     ]
    }
   ],
   "source": [
    "print(test_data.shape)"
   ]
  },
  {
   "cell_type": "code",
   "execution_count": 239,
   "id": "126d4b70",
   "metadata": {},
   "outputs": [],
   "source": [
    "labels=pd.read_pickle(\"C:\\\\Users\\\\91629\\\\Downloads\\\\train_data_mf2_label.pkl\")"
   ]
  },
  {
   "cell_type": "code",
   "execution_count": 240,
   "id": "ed913531",
   "metadata": {},
   "outputs": [
    {
     "name": "stdout",
     "output_type": "stream",
     "text": [
      "(36110, 1000, 3)\n",
      "(36110, 677)\n"
     ]
    }
   ],
   "source": [
    "print(test_data.shape)\n",
    "print(labels.shape)"
   ]
  },
  {
   "cell_type": "code",
   "execution_count": 261,
   "id": "b865ffea",
   "metadata": {},
   "outputs": [
    {
     "name": "stdout",
     "output_type": "stream",
     "text": [
      "Epoch 1/10\n",
      "903/903 [==============================] - 46s 49ms/step - loss: 0.0889 - accuracy: 0.9820 - val_loss: 0.0818 - val_accuracy: 0.9842\n",
      "Epoch 2/10\n",
      "903/903 [==============================] - 47s 52ms/step - loss: 0.0872 - accuracy: 0.9828 - val_loss: 0.0818 - val_accuracy: 0.9842\n",
      "Epoch 3/10\n",
      "903/903 [==============================] - 48s 53ms/step - loss: 0.0871 - accuracy: 0.9828 - val_loss: 0.0815 - val_accuracy: 0.9842\n",
      "Epoch 4/10\n",
      "903/903 [==============================] - 51s 56ms/step - loss: 0.0871 - accuracy: 0.9828 - val_loss: 0.0817 - val_accuracy: 0.9842\n",
      "Epoch 5/10\n",
      "903/903 [==============================] - 56s 62ms/step - loss: 0.0870 - accuracy: 0.9828 - val_loss: 0.0814 - val_accuracy: 0.9842\n",
      "Epoch 6/10\n",
      "903/903 [==============================] - 49s 55ms/step - loss: 0.0870 - accuracy: 0.9828 - val_loss: 0.0816 - val_accuracy: 0.9842\n",
      "Epoch 7/10\n",
      "903/903 [==============================] - 46s 51ms/step - loss: 0.0870 - accuracy: 0.9828 - val_loss: 0.0815 - val_accuracy: 0.9842\n",
      "Epoch 8/10\n",
      "903/903 [==============================] - 44s 49ms/step - loss: 0.0869 - accuracy: 0.9828 - val_loss: 0.0815 - val_accuracy: 0.9842\n",
      "Epoch 9/10\n",
      "903/903 [==============================] - 45s 50ms/step - loss: 0.0869 - accuracy: 0.9828 - val_loss: 0.0818 - val_accuracy: 0.9842\n",
      "Epoch 10/10\n",
      "903/903 [==============================] - 45s 49ms/step - loss: 0.0868 - accuracy: 0.9828 - val_loss: 0.0816 - val_accuracy: 0.9842\n"
     ]
    },
    {
     "data": {
      "text/plain": [
       "<keras.src.callbacks.History at 0x1ef23486230>"
      ]
     },
     "execution_count": 261,
     "metadata": {},
     "output_type": "execute_result"
    }
   ],
   "source": [
    "model = Sequential([\n",
    "    Conv1D(32, kernel_size=3, activation='relu', input_shape=(max_sequence_length, num_channels)),\n",
    "    MaxPooling1D(pool_size=2),\n",
    "    Conv1D(64, kernel_size=3, activation='relu'), /\n",
    "    MaxPooling1D(pool_size=2),\n",
    "    Flatten(),\n",
    "    Dense(128, activation='relu'),\n",
    "    Dense(1, activation='sigmoid')  # Assuming binary classification, adjust output units for multiclass\n",
    "])\n",
    "\n",
    "model.add(Flatten())\n",
    "# Compile the model\n",
    "model.compile(optimizer='adam', loss='binary_crossentropy', metrics=['accuracy'])\n",
    "\n",
    "# Train the model\n",
    "model.fit(test_data, labels, epochs=10, batch_size=32, validation_split=0.2)"
   ]
  },
  {
   "cell_type": "code",
   "execution_count": 262,
   "id": "5ce0c871",
   "metadata": {},
   "outputs": [],
   "source": [
    "num_channels = 3\n",
    "max_sequence_length = 1000  # Set maximum sequence length\n",
    "\n",
    "def dataPrep1(folderPath):\n",
    "    # Get a list of all .npy files in the folder\n",
    "    file_list = [file for file in os.listdir(folderPath) if file.endswith('.npy')]\n",
    "\n",
    "    #print(len(file_list))\n",
    "    # Initialize lists to store padded data\n",
    "    padded_data_list = []\n",
    "\n",
    "    # Process each .npy file\n",
    "    for file_name in file_list:\n",
    "        # Load data from .npy file\n",
    "        data = np.load(os.path.join(folder_pathTest, file_name))\n",
    "\n",
    "        # Truncate or pad sequences to max_sequence_length\n",
    "        truncated_data = [seq[:max_sequence_length] for seq in data]\n",
    "        padded_data = pad_sequences(truncated_data, maxlen=max_sequence_length, padding='pre', dtype='float32')\n",
    "\n",
    "        padded_data_list.append(padded_data)\n",
    "    padded_data_list.append(padded_data_list[0]) \n",
    "    # Concatenate data from all files\n",
    "    padded_data_all = np.stack(padded_data_list, axis=0) #1136\n",
    "\n",
    "    # Swap axes to match model input shape (None, 1000, 3)\n",
    "    padded_data_all = np.swapaxes(padded_data_all, 1, 2)\n",
    "    return padded_data_all"
   ]
  },
  {
   "cell_type": "code",
   "execution_count": 263,
   "id": "664b6b66",
   "metadata": {},
   "outputs": [],
   "source": [
    "folder_pathTest=\"C:\\\\Users\\\\91629\\\\Desktop\\\\MF_test_Data\"\n",
    "t_data=dataPrep1(folder_pathTest)"
   ]
  },
  {
   "cell_type": "code",
   "execution_count": 264,
   "id": "0db15db7",
   "metadata": {},
   "outputs": [],
   "source": [
    "label1=pd.read_pickle(\"C:\\\\Users\\\\91629\\\\Downloads\\\\test_data_mf2_label.pkl\")"
   ]
  },
  {
   "cell_type": "code",
   "execution_count": 265,
   "id": "07bbc67c",
   "metadata": {},
   "outputs": [
    {
     "data": {
      "text/plain": [
       "(1137, 1000, 3)"
      ]
     },
     "execution_count": 265,
     "metadata": {},
     "output_type": "execute_result"
    }
   ],
   "source": [
    "t_data.shape"
   ]
  },
  {
   "cell_type": "code",
   "execution_count": 266,
   "id": "e40a3968",
   "metadata": {},
   "outputs": [
    {
     "data": {
      "text/plain": [
       "(1137, 677)"
      ]
     },
     "execution_count": 266,
     "metadata": {},
     "output_type": "execute_result"
    }
   ],
   "source": [
    "label1.shape"
   ]
  },
  {
   "cell_type": "code",
   "execution_count": 267,
   "id": "48f0d4d1",
   "metadata": {},
   "outputs": [],
   "source": [
    "train_metrics=model.evaluate(t_data,label1, verbose=0)\n",
    "test_metrics=model.evaluate(test_data,labels, verbose=0)"
   ]
  },
  {
   "cell_type": "code",
   "execution_count": 331,
   "id": "785230d8",
   "metadata": {},
   "outputs": [
    {
     "name": "stdout",
     "output_type": "stream",
     "text": [
      "loss during training of train_data: 0.06834214925765991\n"
     ]
    }
   ],
   "source": [
    "print(\"loss during training of train_data:\",train_metrics[0])"
   ]
  },
  {
   "cell_type": "code",
   "execution_count": 332,
   "id": "44f380ca",
   "metadata": {},
   "outputs": [
    {
     "name": "stdout",
     "output_type": "stream",
     "text": [
      "accuracy during training of train_data: 0.987538754940033\n"
     ]
    }
   ],
   "source": [
    "print(\"accuracy during training of train_data:\",train_metrics[1])"
   ]
  },
  {
   "cell_type": "code",
   "execution_count": 333,
   "id": "4df5ffed",
   "metadata": {},
   "outputs": [
    {
     "name": "stdout",
     "output_type": "stream",
     "text": [
      "loss during training of train_data: 0.08559269458055496\n"
     ]
    }
   ],
   "source": [
    "print(\"loss during training of train_data:\",test_metrics[0])"
   ]
  },
  {
   "cell_type": "code",
   "execution_count": 334,
   "id": "ba080e24",
   "metadata": {},
   "outputs": [
    {
     "name": "stdout",
     "output_type": "stream",
     "text": [
      "accuracy during training of train_data: 0.9830892086029053\n"
     ]
    }
   ],
   "source": [
    "print(\"accuracy during training of train_data:\",test_metrics[1])"
   ]
  },
  {
   "cell_type": "code",
   "execution_count": 222,
   "id": "df95d536",
   "metadata": {},
   "outputs": [
    {
     "name": "stdout",
     "output_type": "stream",
     "text": [
      "36/36 [==============================] - 0s 10ms/step\n"
     ]
    }
   ],
   "source": [
    "predicted_data=model.predict(t_data)"
   ]
  },
  {
   "cell_type": "code",
   "execution_count": 250,
   "id": "7e559ca7",
   "metadata": {},
   "outputs": [],
   "source": [
    "actual_data=label1.values"
   ]
  },
  {
   "cell_type": "code",
   "execution_count": 251,
   "id": "e9dce623",
   "metadata": {},
   "outputs": [
    {
     "data": {
      "text/plain": [
       "array([[0.00958697],\n",
       "       [0.01512731],\n",
       "       [0.01298973],\n",
       "       ...,\n",
       "       [0.01383911],\n",
       "       [0.01317876],\n",
       "       [0.00958697]], dtype=float32)"
      ]
     },
     "execution_count": 251,
     "metadata": {},
     "output_type": "execute_result"
    }
   ],
   "source": [
    "predicted_data"
   ]
  },
  {
   "cell_type": "code",
   "execution_count": 268,
   "id": "d1769faa",
   "metadata": {},
   "outputs": [
    {
     "data": {
      "text/plain": [
       "array([[0, 0, 0, ..., 0, 0, 0],\n",
       "       [0, 0, 0, ..., 0, 0, 0],\n",
       "       [0, 0, 0, ..., 0, 0, 0],\n",
       "       ...,\n",
       "       [0, 0, 0, ..., 0, 0, 0],\n",
       "       [0, 0, 0, ..., 0, 0, 0],\n",
       "       [0, 0, 0, ..., 0, 0, 0]], dtype=int64)"
      ]
     },
     "execution_count": 268,
     "metadata": {},
     "output_type": "execute_result"
    }
   ],
   "source": [
    "actual_data"
   ]
  },
  {
   "cell_type": "code",
   "execution_count": 329,
   "id": "4804ab9c",
   "metadata": {},
   "outputs": [
    {
     "name": "stdout",
     "output_type": "stream",
     "text": [
      "[0 0 0 ... 0 0 0]\n"
     ]
    }
   ],
   "source": [
    "# Apply threshold (0.5)\n",
    "y_pred = (predicted_data>=0.5).astype(int)\n",
    "\n",
    "# Convert to 1D array\n",
    "y_pred = np.squeeze(y_pred)\n",
    "\n",
    "# Print the predicted labels\n",
    "print(y_pred)\n"
   ]
  },
  {
   "cell_type": "code",
   "execution_count": 322,
   "id": "85d904a2",
   "metadata": {},
   "outputs": [],
   "source": [
    "binary_labels = (label1.sum(axis=1) > 0).astype(int)"
   ]
  },
  {
   "cell_type": "code",
   "execution_count": 323,
   "id": "79b7a0eb",
   "metadata": {},
   "outputs": [],
   "source": [
    "accuracy = accuracy_score(binary_labels,y_pred)\n",
    "precision = precision_score(binary_labels,y_pred)\n",
    "recall = recall_score(binary_labels,y_pred)\n",
    "f1 = f1_score(binary_labels,y_pred)"
   ]
  },
  {
   "cell_type": "code",
   "execution_count": 324,
   "id": "c38ea545",
   "metadata": {},
   "outputs": [
    {
     "data": {
      "text/plain": [
       "0.9885664028144239"
      ]
     },
     "execution_count": 324,
     "metadata": {},
     "output_type": "execute_result"
    }
   ],
   "source": [
    "accuracy"
   ]
  },
  {
   "cell_type": "code",
   "execution_count": 325,
   "id": "763376ed",
   "metadata": {},
   "outputs": [
    {
     "data": {
      "text/plain": [
       "1.0"
      ]
     },
     "execution_count": 325,
     "metadata": {},
     "output_type": "execute_result"
    }
   ],
   "source": [
    "precision"
   ]
  },
  {
   "cell_type": "code",
   "execution_count": 326,
   "id": "464f1381",
   "metadata": {},
   "outputs": [
    {
     "data": {
      "text/plain": [
       "0.9885664028144239"
      ]
     },
     "execution_count": 326,
     "metadata": {},
     "output_type": "execute_result"
    }
   ],
   "source": [
    "recall"
   ]
  },
  {
   "cell_type": "code",
   "execution_count": 307,
   "id": "c6719824",
   "metadata": {},
   "outputs": [
    {
     "data": {
      "text/plain": [
       "0.994250331711632"
      ]
     },
     "execution_count": 307,
     "metadata": {},
     "output_type": "execute_result"
    }
   ],
   "source": [
    "f1"
   ]
  }
 ],
 "metadata": {
  "kernelspec": {
   "display_name": "Python 3 (ipykernel)",
   "language": "python",
   "name": "python3"
  },
  "language_info": {
   "codemirror_mode": {
    "name": "ipython",
    "version": 3
   },
   "file_extension": ".py",
   "mimetype": "text/x-python",
   "name": "python",
   "nbconvert_exporter": "python",
   "pygments_lexer": "ipython3",
   "version": "3.10.9"
  }
 },
 "nbformat": 4,
 "nbformat_minor": 5
}
